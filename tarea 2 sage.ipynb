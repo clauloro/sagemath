{
 "cells": [
  {
   "cell_type": "code",
   "execution_count": 1,
   "id": "5c9167c8",
   "metadata": {},
   "outputs": [
    {
     "data": {
      "text/plain": [
       "-4"
      ]
     },
     "execution_count": 1,
     "metadata": {},
     "output_type": "execute_result"
    }
   ],
   "source": [
    "floor(-3.56)"
   ]
  },
  {
   "cell_type": "code",
   "execution_count": 2,
   "id": "44f80456",
   "metadata": {},
   "outputs": [
    {
     "data": {
      "text/plain": [
       "-3"
      ]
     },
     "execution_count": 2,
     "metadata": {},
     "output_type": "execute_result"
    }
   ],
   "source": [
    "ceil( -3.56)"
   ]
  },
  {
   "cell_type": "code",
   "execution_count": 3,
   "id": "330d221d",
   "metadata": {},
   "outputs": [
    {
     "data": {
      "text/plain": [
       "2"
      ]
     },
     "execution_count": 3,
     "metadata": {},
     "output_type": "execute_result"
    }
   ],
   "source": [
    "log(100,10)"
   ]
  },
  {
   "cell_type": "code",
   "execution_count": 4,
   "id": "d8dbe145",
   "metadata": {},
   "outputs": [
    {
     "data": {
      "text/plain": [
       "2*log(10)"
      ]
     },
     "execution_count": 4,
     "metadata": {},
     "output_type": "execute_result"
    }
   ],
   "source": [
    "ln(100)"
   ]
  },
  {
   "cell_type": "code",
   "execution_count": 8,
   "id": "ff6600c8",
   "metadata": {},
   "outputs": [
    {
     "data": {
      "text/plain": [
       "log(10)"
      ]
     },
     "execution_count": 8,
     "metadata": {},
     "output_type": "execute_result"
    }
   ],
   "source": [
    "ln(100)/log(100,10)"
   ]
  },
  {
   "cell_type": "code",
   "execution_count": 9,
   "id": "3dbf912c",
   "metadata": {},
   "outputs": [
    {
     "data": {
      "text/plain": [
       "6"
      ]
     },
     "execution_count": 9,
     "metadata": {},
     "output_type": "execute_result"
    }
   ],
   "source": [
    "log(64,2)"
   ]
  },
  {
   "cell_type": "code",
   "execution_count": 10,
   "id": "7824f4ae",
   "metadata": {},
   "outputs": [
    {
     "data": {
      "text/plain": [
       "-1"
      ]
     },
     "execution_count": 10,
     "metadata": {},
     "output_type": "execute_result"
    }
   ],
   "source": [
    "exp(1)^(i*pi)"
   ]
  },
  {
   "cell_type": "code",
   "execution_count": 11,
   "id": "f7de2dc9",
   "metadata": {},
   "outputs": [
    {
     "data": {
      "text/plain": [
       "-1.00000000000000 + 1.22464679914735e-16*I"
      ]
     },
     "execution_count": 11,
     "metadata": {},
     "output_type": "execute_result"
    }
   ],
   "source": [
    "exp(1)^(i*pi.n())"
   ]
  },
  {
   "cell_type": "code",
   "execution_count": 12,
   "id": "2e162dac",
   "metadata": {},
   "outputs": [
    {
     "data": {
      "text/plain": [
       "1"
      ]
     },
     "execution_count": 12,
     "metadata": {},
     "output_type": "execute_result"
    }
   ],
   "source": [
    "sin(pi/2)"
   ]
  },
  {
   "cell_type": "code",
   "execution_count": 13,
   "id": "92aa8dae",
   "metadata": {},
   "outputs": [
    {
     "data": {
      "text/plain": [
       "1.00000000000000"
      ]
     },
     "execution_count": 13,
     "metadata": {},
     "output_type": "execute_result"
    }
   ],
   "source": [
    "cot(pi/4).n()"
   ]
  },
  {
   "cell_type": "code",
   "execution_count": 14,
   "id": "da0e2249",
   "metadata": {},
   "outputs": [
    {
     "data": {
      "text/plain": [
       "5.12583089548301"
      ]
     },
     "execution_count": 14,
     "metadata": {},
     "output_type": "execute_result"
    }
   ],
   "source": [
    "csc(pi/16).n()"
   ]
  },
  {
   "cell_type": "code",
   "execution_count": null,
   "id": "0983a2df",
   "metadata": {},
   "outputs": [],
   "source": []
  }
 ],
 "metadata": {
  "kernelspec": {
   "display_name": "SageMath 9.7",
   "language": "sage",
   "name": "sagemath-9.7"
  },
  "language_info": {
   "codemirror_mode": {
    "name": "ipython",
    "version": 3
   },
   "file_extension": ".py",
   "mimetype": "text/x-python",
   "name": "python",
   "nbconvert_exporter": "python",
   "pygments_lexer": "ipython3",
   "version": "3.10.5"
  }
 },
 "nbformat": 4,
 "nbformat_minor": 5
}
